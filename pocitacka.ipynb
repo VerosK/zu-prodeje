{
 "cells": [
  {
   "cell_type": "code",
   "execution_count": 27,
   "metadata": {
    "collapsed": false
   },
   "outputs": [],
   "source": [
    "import pandas as pd\n",
    "import numpy as np"
   ]
  },
  {
   "cell_type": "code",
   "execution_count": 2,
   "metadata": {
    "collapsed": false
   },
   "outputs": [],
   "source": [
    "data = pd.read_excel(r'data/zu_prodeje.xlsx')"
   ]
  },
  {
   "cell_type": "code",
   "execution_count": 8,
   "metadata": {
    "collapsed": false
   },
   "outputs": [],
   "source": [
    "statut = pd.read_excel(r'data/organizace_statut.xlsx')"
   ]
  },
  {
   "cell_type": "code",
   "execution_count": 10,
   "metadata": {
    "collapsed": false
   },
   "outputs": [],
   "source": [
    "data = data.merge(statut, left_on='organizace', right_on='nazev', how='left')"
   ]
  },
  {
   "cell_type": "code",
   "execution_count": null,
   "metadata": {
    "collapsed": true
   },
   "outputs": [],
   "source": [
    "def nuller(value):\n",
    "    if (value != value):\n",
    "        return 's'\n",
    "    else:\n",
    "        return value\n",
    "    \n",
    "data.status = data.status.apply(lambda x: nuller(x))"
   ]
  },
  {
   "cell_type": "code",
   "execution_count": 26,
   "metadata": {
    "collapsed": false
   },
   "outputs": [
    {
     "data": {
      "text/html": [
       "<div style=\"max-height:1000px;max-width:1500px;overflow:auto;\">\n",
       "<table border=\"1\" class=\"dataframe\">\n",
       "  <thead>\n",
       "    <tr style=\"text-align: right;\">\n",
       "      <th></th>\n",
       "      <th>cena za produkt</th>\n",
       "      <th>cenacelkemzaobjednávku</th>\n",
       "    </tr>\n",
       "    <tr>\n",
       "      <th>status</th>\n",
       "      <th></th>\n",
       "      <th></th>\n",
       "    </tr>\n",
       "  </thead>\n",
       "  <tbody>\n",
       "    <tr>\n",
       "      <th>s</th>\n",
       "      <td> 2340223</td>\n",
       "      <td>  4584946</td>\n",
       "    </tr>\n",
       "    <tr>\n",
       "      <th>v</th>\n",
       "      <td> 5177304</td>\n",
       "      <td> 27644464</td>\n",
       "    </tr>\n",
       "    <tr>\n",
       "      <th>vz</th>\n",
       "      <td> 1004548</td>\n",
       "      <td>  1963913</td>\n",
       "    </tr>\n",
       "  </tbody>\n",
       "</table>\n",
       "</div>"
      ],
      "text/plain": [
       "        cena za produkt  cenacelkemzaobjednávku\n",
       "status                                         \n",
       "s               2340223                 4584946\n",
       "v               5177304                27644464\n",
       "vz              1004548                 1963913"
      ]
     },
     "execution_count": 26,
     "metadata": {},
     "output_type": "execute_result"
    }
   ],
   "source": [
    "#vsecko\n",
    "#status: s - soukromé, v - veřejné, vz - vzdělávací\n",
    "data.groupby('status')[['cena za produkt', 'cenacelkemzaobjednávku']].sum()"
   ]
  },
  {
   "cell_type": "code",
   "execution_count": 25,
   "metadata": {
    "collapsed": false
   },
   "outputs": [
    {
     "data": {
      "text/html": [
       "<div style=\"max-height:1000px;max-width:1500px;overflow:auto;\">\n",
       "<table border=\"1\" class=\"dataframe\">\n",
       "  <thead>\n",
       "    <tr style=\"text-align: right;\">\n",
       "      <th></th>\n",
       "      <th>cena za produkt</th>\n",
       "      <th>cenacelkemzaobjednávku</th>\n",
       "    </tr>\n",
       "    <tr>\n",
       "      <th>status</th>\n",
       "      <th></th>\n",
       "      <th></th>\n",
       "    </tr>\n",
       "  </thead>\n",
       "  <tbody>\n",
       "    <tr>\n",
       "      <th>s</th>\n",
       "      <td> 359260</td>\n",
       "      <td>  464180</td>\n",
       "    </tr>\n",
       "    <tr>\n",
       "      <th>v</th>\n",
       "      <td> 123245</td>\n",
       "      <td> 1398619</td>\n",
       "    </tr>\n",
       "    <tr>\n",
       "      <th>vz</th>\n",
       "      <td> 211292</td>\n",
       "      <td>  485342</td>\n",
       "    </tr>\n",
       "  </tbody>\n",
       "</table>\n",
       "</div>"
      ],
      "text/plain": [
       "        cena za produkt  cenacelkemzaobjednávku\n",
       "status                                         \n",
       "s                359260                  464180\n",
       "v                123245                 1398619\n",
       "vz               211292                  485342"
      ]
     },
     "execution_count": 25,
     "metadata": {},
     "output_type": "execute_result"
    }
   ],
   "source": [
    "#dmr5\n",
    "data[data['kód produktu'] == 64111].groupby('status')[['cena za produkt', 'cenacelkemzaobjednávku']].sum()"
   ]
  }
 ],
 "metadata": {
  "kernelspec": {
   "display_name": "Python 3",
   "language": "python",
   "name": "python3"
  },
  "language_info": {
   "codemirror_mode": {
    "name": "ipython",
    "version": 3
   },
   "file_extension": ".py",
   "mimetype": "text/x-python",
   "name": "python",
   "nbconvert_exporter": "python",
   "pygments_lexer": "ipython3",
   "version": "3.4.3"
  }
 },
 "nbformat": 4,
 "nbformat_minor": 0
}
